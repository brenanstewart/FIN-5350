# -*- coding: utf-8 -*-
"""
Created on Wed Oct  4 17:06:09 2017

@author: Brenan
"""

#Nugget
print("Hello, World!")

x = [1,2,3]

import numpy as np
y = np.random.randint

#git status
#git add --all
#git status
#git commit -m "first push of hw 1"
#git status

#git push origin master
